{
 "cells": [
  {
   "cell_type": "code",
   "execution_count": 1,
   "metadata": {},
   "outputs": [],
   "source": [
    "import numpy as np\n",
    "import pandas as pd\n",
    "import matplotlib.pyplot as plt"
   ]
  },
  {
   "cell_type": "markdown",
   "metadata": {},
   "source": [
    "# 1. 데이터 불러오기"
   ]
  },
  {
   "cell_type": "code",
   "execution_count": 4,
   "metadata": {},
   "outputs": [],
   "source": [
    "X_train = pd.read_csv(\"D:/WORK/수원대학교/2022_CPU_머신러닝_동아리/Pak Choi/data/train_input/CASE_01.csv\")"
   ]
  },
  {
   "cell_type": "code",
   "execution_count": 5,
   "metadata": {},
   "outputs": [],
   "source": [
    "y_train = pd.read_csv(\"D:/WORK/수원대학교/2022_CPU_머신러닝_동아리/Pak Choi/data/train_target/CASE_01.csv\")"
   ]
  },
  {
   "cell_type": "code",
   "execution_count": 8,
   "metadata": {},
   "outputs": [],
   "source": [
    "X_test = pd.read_csv(\"D:/WORK/수원대학교/2022_CPU_머신러닝_동아리/Pak Choi/data/test_input/test_01.csv\")"
   ]
  },
  {
   "cell_type": "code",
   "execution_count": 9,
   "metadata": {},
   "outputs": [],
   "source": [
    "y_test = pd.read_csv(\"D:/WORK/수원대학교/2022_CPU_머신러닝_동아리/Pak Choi/data/test_target/test_01.csv\")"
   ]
  },
  {
   "cell_type": "markdown",
   "metadata": {},
   "source": [
    "## 결측치 처리(임시완)"
   ]
  },
  {
   "cell_type": "code",
   "execution_count": 83,
   "metadata": {},
   "outputs": [
    {
     "data": {
      "text/plain": [
       "(시간               0\n",
       " 내부온도관측치          2\n",
       " 내부습도관측치          2\n",
       " CO2관측치           2\n",
       " EC관측치            2\n",
       " 외부온도관측치          2\n",
       " 외부습도관측치          2\n",
       " 펌프상태             2\n",
       " 펌프작동남은시간         2\n",
       " 최근분무량            2\n",
       " 일간누적분무량          2\n",
       " 냉방상태             2\n",
       " 냉방작동남은시간         2\n",
       " 난방상태             2\n",
       " 난방작동남은시간         2\n",
       " 내부유동팬상태          2\n",
       " 내부유동팬작동남은시간      2\n",
       " 외부환기팬상태          2\n",
       " 외부환기팬작동남은시간      2\n",
       " 화이트 LED상태        2\n",
       " 화이트 LED작동남은시간    2\n",
       " 화이트 LED동작강도      2\n",
       " 레드 LED상태         2\n",
       " 레드 LED작동남은시간     2\n",
       " 레드 LED동작강도       2\n",
       " 블루 LED상태         2\n",
       " 블루 LED작동남은시간     2\n",
       " 블루 LED동작강도       2\n",
       " 카메라상태            2\n",
       " 냉방온도             2\n",
       " 난방온도             2\n",
       " 기준온도             2\n",
       " 난방부하             2\n",
       " 냉방부하             2\n",
       " 총추정광량            2\n",
       " 백색광추정광량          2\n",
       " 적색광추정광량          2\n",
       " 청색광추정광량          2\n",
       " dtype: int64,\n",
       " 시간      0\n",
       " rate    0\n",
       " dtype: int64,\n",
       " 시간               0\n",
       " 내부온도관측치          1\n",
       " 내부습도관측치          1\n",
       " CO2관측치           1\n",
       " EC관측치            1\n",
       " 외부온도관측치          1\n",
       " 외부습도관측치          1\n",
       " 펌프상태             1\n",
       " 펌프작동남은시간         1\n",
       " 최근분무량            1\n",
       " 일간누적분무량          1\n",
       " 냉방상태             1\n",
       " 냉방작동남은시간         1\n",
       " 난방상태             1\n",
       " 난방작동남은시간         1\n",
       " 내부유동팬상태          1\n",
       " 내부유동팬작동남은시간      1\n",
       " 외부환기팬상태          1\n",
       " 외부환기팬작동남은시간      1\n",
       " 화이트 LED상태        1\n",
       " 화이트 LED작동남은시간    1\n",
       " 화이트 LED동작강도      1\n",
       " 레드 LED상태         1\n",
       " 레드 LED작동남은시간     1\n",
       " 레드 LED동작강도       1\n",
       " 블루 LED상태         1\n",
       " 블루 LED작동남은시간     1\n",
       " 블루 LED동작강도       1\n",
       " 카메라상태            1\n",
       " 냉방온도             1\n",
       " 난방온도             1\n",
       " 기준온도             1\n",
       " 난방부하             1\n",
       " 냉방부하             1\n",
       " 총추정광량            1\n",
       " 백색광추정광량          1\n",
       " 적색광추정광량          1\n",
       " 청색광추정광량          1\n",
       " dtype: int64,\n",
       " 시간               0\n",
       " 내부온도관측치          1\n",
       " 내부습도관측치          1\n",
       " CO2관측치           1\n",
       " EC관측치            1\n",
       " 외부온도관측치          1\n",
       " 외부습도관측치          1\n",
       " 펌프상태             1\n",
       " 펌프작동남은시간         1\n",
       " 최근분무량            1\n",
       " 일간누적분무량          1\n",
       " 냉방상태             1\n",
       " 냉방작동남은시간         1\n",
       " 난방상태             1\n",
       " 난방작동남은시간         1\n",
       " 내부유동팬상태          1\n",
       " 내부유동팬작동남은시간      1\n",
       " 외부환기팬상태          1\n",
       " 외부환기팬작동남은시간      1\n",
       " 화이트 LED상태        1\n",
       " 화이트 LED작동남은시간    1\n",
       " 화이트 LED동작강도      1\n",
       " 레드 LED상태         1\n",
       " 레드 LED작동남은시간     1\n",
       " 레드 LED동작강도       1\n",
       " 블루 LED상태         1\n",
       " 블루 LED작동남은시간     1\n",
       " 블루 LED동작강도       1\n",
       " 카메라상태            1\n",
       " 냉방온도             1\n",
       " 난방온도             1\n",
       " 기준온도             1\n",
       " 난방부하             1\n",
       " 냉방부하             1\n",
       " 총추정광량            1\n",
       " 백색광추정광량          1\n",
       " 적색광추정광량          1\n",
       " 청색광추정광량          1\n",
       " dtype: int64)"
      ]
     },
     "execution_count": 83,
     "metadata": {},
     "output_type": "execute_result"
    }
   ],
   "source": [
    "X_train.isnull().sum(), y_train.isnull().sum(), X_test.isnull().sum(), X_test.isnull().sum()"
   ]
  },
  {
   "cell_type": "code",
   "execution_count": 78,
   "metadata": {},
   "outputs": [
    {
     "data": {
      "text/html": [
       "<div>\n",
       "<style scoped>\n",
       "    .dataframe tbody tr th:only-of-type {\n",
       "        vertical-align: middle;\n",
       "    }\n",
       "\n",
       "    .dataframe tbody tr th {\n",
       "        vertical-align: top;\n",
       "    }\n",
       "\n",
       "    .dataframe thead th {\n",
       "        text-align: right;\n",
       "    }\n",
       "</style>\n",
       "<table border=\"1\" class=\"dataframe\">\n",
       "  <thead>\n",
       "    <tr style=\"text-align: right;\">\n",
       "      <th></th>\n",
       "      <th>시간</th>\n",
       "      <th>내부온도관측치</th>\n",
       "      <th>내부습도관측치</th>\n",
       "      <th>CO2관측치</th>\n",
       "      <th>EC관측치</th>\n",
       "      <th>외부온도관측치</th>\n",
       "      <th>외부습도관측치</th>\n",
       "      <th>펌프상태</th>\n",
       "      <th>펌프작동남은시간</th>\n",
       "      <th>최근분무량</th>\n",
       "      <th>...</th>\n",
       "      <th>카메라상태</th>\n",
       "      <th>냉방온도</th>\n",
       "      <th>난방온도</th>\n",
       "      <th>기준온도</th>\n",
       "      <th>난방부하</th>\n",
       "      <th>냉방부하</th>\n",
       "      <th>총추정광량</th>\n",
       "      <th>백색광추정광량</th>\n",
       "      <th>적색광추정광량</th>\n",
       "      <th>청색광추정광량</th>\n",
       "    </tr>\n",
       "  </thead>\n",
       "  <tbody>\n",
       "    <tr>\n",
       "      <th>25395</th>\n",
       "      <td>2021-03-06 15:15:00</td>\n",
       "      <td>NaN</td>\n",
       "      <td>NaN</td>\n",
       "      <td>NaN</td>\n",
       "      <td>NaN</td>\n",
       "      <td>NaN</td>\n",
       "      <td>NaN</td>\n",
       "      <td>NaN</td>\n",
       "      <td>NaN</td>\n",
       "      <td>NaN</td>\n",
       "      <td>...</td>\n",
       "      <td>NaN</td>\n",
       "      <td>NaN</td>\n",
       "      <td>NaN</td>\n",
       "      <td>NaN</td>\n",
       "      <td>NaN</td>\n",
       "      <td>NaN</td>\n",
       "      <td>NaN</td>\n",
       "      <td>NaN</td>\n",
       "      <td>NaN</td>\n",
       "      <td>NaN</td>\n",
       "    </tr>\n",
       "    <tr>\n",
       "      <th>38473</th>\n",
       "      <td>2021-03-15 17:13:00</td>\n",
       "      <td>NaN</td>\n",
       "      <td>NaN</td>\n",
       "      <td>NaN</td>\n",
       "      <td>NaN</td>\n",
       "      <td>NaN</td>\n",
       "      <td>NaN</td>\n",
       "      <td>NaN</td>\n",
       "      <td>NaN</td>\n",
       "      <td>NaN</td>\n",
       "      <td>...</td>\n",
       "      <td>NaN</td>\n",
       "      <td>NaN</td>\n",
       "      <td>NaN</td>\n",
       "      <td>NaN</td>\n",
       "      <td>NaN</td>\n",
       "      <td>NaN</td>\n",
       "      <td>NaN</td>\n",
       "      <td>NaN</td>\n",
       "      <td>NaN</td>\n",
       "      <td>NaN</td>\n",
       "    </tr>\n",
       "  </tbody>\n",
       "</table>\n",
       "<p>2 rows × 38 columns</p>\n",
       "</div>"
      ],
      "text/plain": [
       "                        시간  내부온도관측치  내부습도관측치  CO2관측치  EC관측치  외부온도관측치  외부습도관측치  \\\n",
       "25395  2021-03-06 15:15:00      NaN      NaN     NaN    NaN      NaN      NaN   \n",
       "38473  2021-03-15 17:13:00      NaN      NaN     NaN    NaN      NaN      NaN   \n",
       "\n",
       "       펌프상태  펌프작동남은시간  최근분무량  ...  카메라상태  냉방온도  난방온도  기준온도  난방부하  냉방부하  총추정광량  \\\n",
       "25395   NaN       NaN    NaN  ...    NaN   NaN   NaN   NaN   NaN   NaN    NaN   \n",
       "38473   NaN       NaN    NaN  ...    NaN   NaN   NaN   NaN   NaN   NaN    NaN   \n",
       "\n",
       "       백색광추정광량  적색광추정광량  청색광추정광량  \n",
       "25395      NaN      NaN      NaN  \n",
       "38473      NaN      NaN      NaN  \n",
       "\n",
       "[2 rows x 38 columns]"
      ]
     },
     "execution_count": 78,
     "metadata": {},
     "output_type": "execute_result"
    }
   ],
   "source": [
    "X_train[X_train[\"내부온도관측치\"].isnull()]"
   ]
  },
  {
   "cell_type": "markdown",
   "metadata": {},
   "source": [
    "# N. 모델링"
   ]
  },
  {
   "cell_type": "code",
   "execution_count": 19,
   "metadata": {},
   "outputs": [],
   "source": [
    "from keras.models import Sequential\n",
    "from keras.layers import Dense"
   ]
  },
  {
   "cell_type": "code",
   "execution_count": 26,
   "metadata": {},
   "outputs": [
    {
     "data": {
      "text/plain": [
       "38"
      ]
     },
     "execution_count": 26,
     "metadata": {},
     "output_type": "execute_result"
    }
   ],
   "source": [
    "X_train.shape[1]"
   ]
  },
  {
   "cell_type": "code",
   "execution_count": 36,
   "metadata": {},
   "outputs": [],
   "source": [
    "model = Sequential()\n",
    "model.add(Dense(64, input_dim = X_train.shape[1], activation = \"relu\"))\n",
    "model.add(Dense(64, activation=\"relu\"))\n",
    "model.add(Dense(1))\n",
    "\n",
    "model.compile(optimizer=\"rmsprop\", loss = 'mse')"
   ]
  },
  {
   "cell_type": "code",
   "execution_count": 40,
   "metadata": {},
   "outputs": [
    {
     "ename": "ValueError",
     "evalue": "Data cardinality is ambiguous:\n  x sizes: 41760\n  y sizes: 29\nMake sure all arrays contain the same number of samples.",
     "output_type": "error",
     "traceback": [
      "\u001b[1;31m---------------------------------------------------------------------------\u001b[0m",
      "\u001b[1;31mValueError\u001b[0m                                Traceback (most recent call last)",
      "\u001b[1;32md:\\WORK\\수원대학교\\2022_CPU_머신러닝_동아리\\Pak Choi\\Pak Choi_1.ipynb 셀 11\u001b[0m in \u001b[0;36m<cell line: 1>\u001b[1;34m()\u001b[0m\n\u001b[1;32m----> <a href='vscode-notebook-cell:/d%3A/WORK/%EC%88%98%EC%9B%90%EB%8C%80%ED%95%99%EA%B5%90/2022_CPU_%EB%A8%B8%EC%8B%A0%EB%9F%AC%EB%8B%9D_%EB%8F%99%EC%95%84%EB%A6%AC/Pak%20Choi/Pak%20Choi_1.ipynb#X15sZmlsZQ%3D%3D?line=0'>1</a>\u001b[0m hist \u001b[39m=\u001b[39m model\u001b[39m.\u001b[39;49mfit(X_train, y_train[\u001b[39m\"\u001b[39;49m\u001b[39mrate\u001b[39;49m\u001b[39m\"\u001b[39;49m], epochs\u001b[39m=\u001b[39;49m\u001b[39m50\u001b[39;49m, batch_size\u001b[39m=\u001b[39;49m\u001b[39m64\u001b[39;49m)\n",
      "File \u001b[1;32mc:\\Users\\Cedric\\anaconda3\\lib\\site-packages\\keras\\utils\\traceback_utils.py:67\u001b[0m, in \u001b[0;36mfilter_traceback.<locals>.error_handler\u001b[1;34m(*args, **kwargs)\u001b[0m\n\u001b[0;32m     65\u001b[0m \u001b[39mexcept\u001b[39;00m \u001b[39mException\u001b[39;00m \u001b[39mas\u001b[39;00m e:  \u001b[39m# pylint: disable=broad-except\u001b[39;00m\n\u001b[0;32m     66\u001b[0m   filtered_tb \u001b[39m=\u001b[39m _process_traceback_frames(e\u001b[39m.\u001b[39m__traceback__)\n\u001b[1;32m---> 67\u001b[0m   \u001b[39mraise\u001b[39;00m e\u001b[39m.\u001b[39mwith_traceback(filtered_tb) \u001b[39mfrom\u001b[39;00m \u001b[39mNone\u001b[39m\n\u001b[0;32m     68\u001b[0m \u001b[39mfinally\u001b[39;00m:\n\u001b[0;32m     69\u001b[0m   \u001b[39mdel\u001b[39;00m filtered_tb\n",
      "File \u001b[1;32mc:\\Users\\Cedric\\anaconda3\\lib\\site-packages\\keras\\engine\\data_adapter.py:1655\u001b[0m, in \u001b[0;36m_check_data_cardinality\u001b[1;34m(data)\u001b[0m\n\u001b[0;32m   1651\u001b[0m   msg \u001b[39m+\u001b[39m\u001b[39m=\u001b[39m \u001b[39m\"\u001b[39m\u001b[39m  \u001b[39m\u001b[39m{}\u001b[39;00m\u001b[39m sizes: \u001b[39m\u001b[39m{}\u001b[39;00m\u001b[39m\\n\u001b[39;00m\u001b[39m\"\u001b[39m\u001b[39m.\u001b[39mformat(\n\u001b[0;32m   1652\u001b[0m       label, \u001b[39m\"\u001b[39m\u001b[39m, \u001b[39m\u001b[39m\"\u001b[39m\u001b[39m.\u001b[39mjoin(\u001b[39mstr\u001b[39m(i\u001b[39m.\u001b[39mshape[\u001b[39m0\u001b[39m])\n\u001b[0;32m   1653\u001b[0m                        \u001b[39mfor\u001b[39;00m i \u001b[39min\u001b[39;00m tf\u001b[39m.\u001b[39mnest\u001b[39m.\u001b[39mflatten(single_data)))\n\u001b[0;32m   1654\u001b[0m msg \u001b[39m+\u001b[39m\u001b[39m=\u001b[39m \u001b[39m\"\u001b[39m\u001b[39mMake sure all arrays contain the same number of samples.\u001b[39m\u001b[39m\"\u001b[39m\n\u001b[1;32m-> 1655\u001b[0m \u001b[39mraise\u001b[39;00m \u001b[39mValueError\u001b[39;00m(msg)\n",
      "\u001b[1;31mValueError\u001b[0m: Data cardinality is ambiguous:\n  x sizes: 41760\n  y sizes: 29\nMake sure all arrays contain the same number of samples."
     ]
    }
   ],
   "source": [
    "hist = model.fit(X_train, y_train[\"rate\"], epochs=50, batch_size=64)"
   ]
  },
  {
   "cell_type": "code",
   "execution_count": 39,
   "metadata": {},
   "outputs": [
    {
     "data": {
      "text/plain": [
       "0     0.50000\n",
       "1     0.66667\n",
       "2     0.60000\n",
       "3    -0.12500\n",
       "4     1.42857\n",
       "5     0.35294\n",
       "6     0.30435\n",
       "7     0.16667\n",
       "8     0.22857\n",
       "9     0.32558\n",
       "10    0.31579\n",
       "11    0.30667\n",
       "12    0.26531\n",
       "13    0.34677\n",
       "14    0.29341\n",
       "15    0.54630\n",
       "16    0.34132\n",
       "17    0.31473\n",
       "18    0.17148\n",
       "19    0.06667\n",
       "20    0.08152\n",
       "21    0.01131\n",
       "22   -0.00745\n",
       "23   -0.01752\n",
       "24   -0.02803\n",
       "25   -0.07995\n",
       "26    0.01567\n",
       "27   -0.00281\n",
       "28   -0.07032\n",
       "Name: rate, dtype: float64"
      ]
     },
     "execution_count": 39,
     "metadata": {},
     "output_type": "execute_result"
    }
   ],
   "source": [
    "y_train[\"rate\"]"
   ]
  }
 ],
 "metadata": {
  "kernelspec": {
   "display_name": "Python 3.9.12 ('base')",
   "language": "python",
   "name": "python3"
  },
  "language_info": {
   "codemirror_mode": {
    "name": "ipython",
    "version": 3
   },
   "file_extension": ".py",
   "mimetype": "text/x-python",
   "name": "python",
   "nbconvert_exporter": "python",
   "pygments_lexer": "ipython3",
   "version": "3.9.12"
  },
  "orig_nbformat": 4,
  "vscode": {
   "interpreter": {
    "hash": "42e27f01b61b9db9b8e37ef119477c1140e145cf056c3c5bd3af721bcc49baa3"
   }
  }
 },
 "nbformat": 4,
 "nbformat_minor": 2
}
